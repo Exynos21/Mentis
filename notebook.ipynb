{
 "cells": [
  {
   "cell_type": "markdown",
   "metadata": {},
   "source": [
    "# Innovation Lab\n",
    " "
   ]
  },
  {
   "cell_type": "code",
   "execution_count": 1,
   "metadata": {},
   "outputs": [
    {
     "name": "stdout",
     "output_type": "stream",
     "text": [
      "Training on cpu using PyTorch 2.5.1+cpu\n"
     ]
    }
   ],
   "source": [
    "import os\n",
    "import torch\n",
    "import flwr as fl\n",
    "import numpy as np\n",
    "import pandas as pd\n",
    "from tqdm import tqdm\n",
    "from torch import nn\n",
    "from torch import optim\n",
    "from typing import Dict\n",
    "from collections import OrderedDict\n",
    "from sklearn.preprocessing import LabelEncoder\n",
    "from flwr.common import NDArrays, Scalar\n",
    "import matplotlib.pyplot as plt\n",
    "from torch.nn.utils.rnn import pad_sequence\n",
    "from torch.utils.data import Dataset, DataLoader, random_split\n",
    "from sklearn.metrics import precision_score, recall_score, f1_score\n",
    "from sklearn.model_selection import train_test_split\n",
    "\n",
    "DEVICE = torch.device(\"cuda\" if torch.cuda.is_available() else \"cpu\")\n",
    "print(f\"Training on {DEVICE} using PyTorch {torch.__version__}\")\n"
   ]
  },
  {
   "cell_type": "markdown",
   "metadata": {},
   "source": [
    "## Parameters"
   ]
  },
  {
   "cell_type": "markdown",
   "metadata": {},
   "source": [
    "This section defines all the possible hyperparameters that can be used to configure the model. Just update the values to your desired configuration."
   ]
  },
  {
   "cell_type": "code",
   "execution_count": null,
   "metadata": {},
   "outputs": [],
   "source": [
    "# Dataset hyperparameters\n",
    "MAX_LEN = 256\n",
    "\n",
    "# Model hyperparameters\n",
    "EMBED_SIZE = 128\n",
    "HIDDEN_SIZE = 256\n",
    "NUM_LAYERS = 2\n",
    "DROPOUT = 0.5\n",
    "\n",
    "# Training hyperparameters\n",
    "BATCH_SIZE = 32\n",
    "LEARNING_RATE = 0.01\n",
    "NUM_EPOCHS = 10\n",
    "NUM_CLIENTS = 10\n",
    "\n",
    "# General hyperparameters\n",
    "RANDOM_STATE = 42\n",
    "VERBOSE = True\n",
    "np.random.seed(RANDOM_STATE)"
   ]
  },
  {
   "cell_type": "markdown",
   "metadata": {},
   "source": [
    "## Load data\n",
    "Next, we define the datastructure, load the dataset and perform the necessary pre-processing. We begin by defining the dataset."
   ]
  },
  {
   "cell_type": "code",
   "execution_count": 3,
   "metadata": {},
   "outputs": [
    {
     "name": "stderr",
     "output_type": "stream",
     "text": [
      "[nltk_data] Downloading package punkt_tab to\n",
      "[nltk_data]     C:\\Users\\hp\\AppData\\Roaming\\nltk_data...\n",
      "[nltk_data]   Package punkt_tab is already up-to-date!\n"
     ]
    },
    {
     "data": {
      "text/plain": [
       "True"
      ]
     },
     "execution_count": 3,
     "metadata": {},
     "output_type": "execute_result"
    }
   ],
   "source": [
    "import nltk\n",
    "nltk.download('punkt_tab')"
   ]
  },
  {
   "cell_type": "code",
   "execution_count": 6,
   "metadata": {},
   "outputs": [
    {
     "name": "stdout",
     "output_type": "stream",
     "text": [
      "Stopwords loaded successfully.\n",
      "Punkt tokenizer loaded successfully.\n",
      "Data loaders created successfully.\n"
     ]
    }
   ],
   "source": [
    "import nltk\n",
    "import pandas as pd\n",
    "import torch\n",
    "from torch.utils.data import Dataset, DataLoader\n",
    "from torch.nn.utils.rnn import pad_sequence\n",
    "from sklearn.preprocessing import LabelEncoder\n",
    "import ssl\n",
    "import os\n",
    "\n",
    "# Bypass SSL certificate verification\n",
    "ssl._create_default_https_context = ssl._create_unverified_context\n",
    "\n",
    "try:\n",
    "    # Load stopwords\n",
    "    stopwords = nltk.corpus.stopwords.words(\"english\")\n",
    "    print(\"Stopwords loaded successfully.\")\n",
    "\n",
    "    # Load punkt tokenizer\n",
    "    punkt = nltk.data.load('tokenizers/punkt/english.pickle')\n",
    "    print(\"Punkt tokenizer loaded successfully.\")\n",
    "except LookupError as e:\n",
    "    print(f\"Error: {e}\")\n",
    "    print(\"Ensure 'stopwords' and 'punkt' are correctly placed in the specified directory.\")\n",
    "\n",
    "# Dataset class\n",
    "class CustomDataset(Dataset):\n",
    "    def __init__(self, texts, labels, maxlen):\n",
    "        self.texts = [text[:maxlen] for text in texts]\n",
    "        self.labels = labels\n",
    "        self.maxlen = maxlen\n",
    "\n",
    "    def __len__(self):\n",
    "        return len(self.labels)\n",
    "\n",
    "    def __getitem__(self, idx):\n",
    "        text = torch.tensor(self.texts[idx], dtype=torch.long)\n",
    "        label = torch.tensor(self.labels[idx], dtype=torch.long)\n",
    "        return text, label\n",
    "\n",
    "def _collate_fn(batch, vocab):\n",
    "    texts, labels = zip(*batch)\n",
    "    texts_padded = pad_sequence(texts, batch_first=True, padding_value=vocab[\"<pad>\"])\n",
    "    labels = torch.tensor(labels, dtype=torch.long)\n",
    "    return texts_padded, labels\n",
    "\n",
    "def _remove_stopwords(text):\n",
    "    stop = set(nltk.corpus.stopwords.words(\"english\"))\n",
    "    return (\n",
    "        pd.Series(text)\n",
    "        .fillna(\"\")  # Replace NaN with empty string\n",
    "        .astype(str)\n",
    "        .str.lower()\n",
    "        .replace(r\"[^\\w\\s]\", \"\", regex=True)\n",
    "        .apply(nltk.word_tokenize)\n",
    "        .apply(\n",
    "            lambda sentence: \" \".join([word for word in sentence if word not in stop])\n",
    "        )\n",
    "    )\n",
    "\n",
    "class Vocabulary:\n",
    "    def __init__(self, tokens):\n",
    "        self.word_to_idx = {}\n",
    "        self.idx_to_word = []\n",
    "        self.add_tokens(tokens)\n",
    "\n",
    "    def add_tokens(self, tokens):\n",
    "        for token in tokens:\n",
    "            if token not in self.word_to_idx:\n",
    "                self.idx_to_word.append(token)\n",
    "                self.word_to_idx[token] = len(self.idx_to_word) - 1\n",
    "\n",
    "    def update(self, new_tokens):\n",
    "        self.add_tokens(new_tokens)\n",
    "\n",
    "    def __getitem__(self, token):\n",
    "        return self.word_to_idx.get(token, self.word_to_idx[\"<unk>\"])  # Handle unknown tokens\n",
    "\n",
    "    def __len__(self):\n",
    "        return len(self.idx_to_word)\n",
    "\n",
    "    def add_special_tokens(self, tokens):\n",
    "        self.update(tokens)\n",
    "\n",
    "def load_dataset(file_path, maxlen):\n",
    "    # Load data from CSV\n",
    "    df = pd.read_csv(file_path)\n",
    "\n",
    "    # Ensure columns are as expected\n",
    "    assert 'statement' in df.columns and 'status' in df.columns, \"CSV must have 'statement' and 'status' columns.\"\n",
    "\n",
    "    # Preprocess text data\n",
    "    text = _remove_stopwords(df['statement'])\n",
    "    tokens = [nltk.word_tokenize(sentence) for sentence in text]\n",
    "\n",
    "    # Flatten the list of tokens for vocabulary creation\n",
    "    flat_tokens = [token for sentence in tokens for token in sentence]\n",
    "    vocab = Vocabulary(flat_tokens)\n",
    "\n",
    "    # Add special tokens\n",
    "    vocab.add_special_tokens([\"<pad>\", \"<unk>\"])\n",
    "\n",
    "    # Encode labels\n",
    "    label_encoder = LabelEncoder()\n",
    "    labels = label_encoder.fit_transform(df['status'])\n",
    "\n",
    "    # Encode texts\n",
    "    encoded_texts = [[vocab[token] for token in sentence] for sentence in tokens]\n",
    "\n",
    "    # Apply maxlen to encoded texts\n",
    "    encoded_texts = [text[:maxlen] for text in encoded_texts]\n",
    "\n",
    "    encoded_df = pd.DataFrame(\n",
    "        {\n",
    "            \"text\": encoded_texts,\n",
    "            \"category\": labels,\n",
    "        }\n",
    "    )\n",
    "\n",
    "    return encoded_df, vocab, label_encoder\n",
    "\n",
    "\n",
    "def create_dataloader(text, labels, vocab, maxlen, shuffle=True):\n",
    "    dataset = CustomDataset(text.tolist(), labels.tolist(), maxlen)\n",
    "    return DataLoader(\n",
    "        dataset,\n",
    "        batch_size=32,\n",
    "        shuffle=shuffle,\n",
    "        collate_fn=lambda x: _collate_fn(x, vocab),\n",
    "    )\n",
    "\n",
    "# Load data from 'sample.csv'\n",
    "MAX_LEN = 256  # Example maximum length, adjust as needed\n",
    "RANDOM_STATE = 42  # Set a seed for reproducibility\n",
    "\n",
    "from sklearn.model_selection import train_test_split\n",
    "\n",
    "try:\n",
    "    df, vocab, label_encoder = load_dataset('Data.csv', MAX_LEN)\n",
    "    train_texts, test_texts, train_labels, test_labels = train_test_split(\n",
    "        df[\"text\"], df[\"category\"], test_size=0.2, random_state=RANDOM_STATE\n",
    "    )\n",
    "\n",
    "    train_loader = create_dataloader(train_texts, train_labels, vocab, MAX_LEN)\n",
    "    test_loader = create_dataloader(test_texts, test_labels, vocab, MAX_LEN, shuffle=False)\n",
    "    print(\"Data loaders created successfully.\")\n",
    "except Exception as e:\n",
    "    print(f\"Error: {e}\")\n"
   ]
  },
  {
   "cell_type": "markdown",
   "metadata": {},
   "source": [
    "Afterward, we define all the necessary methods to load and pre-process the data. Therefore, we performed tokenization, stopword removal, building up a vocabulary, and encoded the tokens into a numerical representation on our own. For this we used NLTK and scikit-learn respectively. Furthermore, we incorporated a max length into our feature to reduce further computational resources. Additionally, we added padding to the text-feature to unify it, as the input for the model. For this, we used pytorch. Lastly, we label encode the target feature with scikit-learn."
   ]
  },
  {
   "cell_type": "markdown",
   "metadata": {},
   "source": [
    "Next, we need to call the `load_dataset` method with the desired max length."
   ]
  },
  {
   "cell_type": "markdown",
   "metadata": {},
   "source": [
    "Lastly, we split the dataset into training and testing sets, based on a 80:20 ratio and transform them into PyTorch DataLoader objects."
   ]
  },
  {
   "cell_type": "markdown",
   "metadata": {},
   "source": [
    "## State-of-the-art baseline\n",
    "This section implements and evaluates a state-of-the-art bidirectional LSTM model for text classification."
   ]
  },
  {
   "cell_type": "markdown",
   "metadata": {},
   "source": [
    "### Implementation\n",
    "First, we define the model itself with its necessary parameters. Afterward, we implement a method \n",
    "- to train the model based on provided dataset.\n",
    "- evaluate the model based on a provided dataset by computing the utility metrics accuracy, precision, recall and f1."
   ]
  },
  {
   "cell_type": "code",
   "execution_count": 7,
   "metadata": {},
   "outputs": [
    {
     "data": {
      "text/html": [
       "<div>\n",
       "<style scoped>\n",
       "    .dataframe tbody tr th:only-of-type {\n",
       "        vertical-align: middle;\n",
       "    }\n",
       "\n",
       "    .dataframe tbody tr th {\n",
       "        vertical-align: top;\n",
       "    }\n",
       "\n",
       "    .dataframe thead th {\n",
       "        text-align: right;\n",
       "    }\n",
       "</style>\n",
       "<table border=\"1\" class=\"dataframe\">\n",
       "  <thead>\n",
       "    <tr style=\"text-align: right;\">\n",
       "      <th></th>\n",
       "      <th>text</th>\n",
       "      <th>category</th>\n",
       "    </tr>\n",
       "  </thead>\n",
       "  <tbody>\n",
       "    <tr>\n",
       "      <th>22261</th>\n",
       "      <td>[789, 1662, 14468, 4097, 535, 387, 5695, 33, 1...</td>\n",
       "      <td>6</td>\n",
       "    </tr>\n",
       "    <tr>\n",
       "      <th>41400</th>\n",
       "      <td>[167, 3896, 178, 84, 138, 229, 216, 68895, 4005]</td>\n",
       "      <td>2</td>\n",
       "    </tr>\n",
       "    <tr>\n",
       "      <th>20065</th>\n",
       "      <td>[31447, 29387, 45698, 45699, 5044, 3521, 45700...</td>\n",
       "      <td>6</td>\n",
       "    </tr>\n",
       "    <tr>\n",
       "      <th>30036</th>\n",
       "      <td>[13219, 42, 167, 810, 3061, 42650, 1368, 1080,...</td>\n",
       "      <td>5</td>\n",
       "    </tr>\n",
       "    <tr>\n",
       "      <th>780</th>\n",
       "      <td>[925, 193, 1215, 736]</td>\n",
       "      <td>3</td>\n",
       "    </tr>\n",
       "  </tbody>\n",
       "</table>\n",
       "</div>"
      ],
      "text/plain": [
       "                                                    text  category\n",
       "22261  [789, 1662, 14468, 4097, 535, 387, 5695, 33, 1...         6\n",
       "41400   [167, 3896, 178, 84, 138, 229, 216, 68895, 4005]         2\n",
       "20065  [31447, 29387, 45698, 45699, 5044, 3521, 45700...         6\n",
       "30036  [13219, 42, 167, 810, 3061, 42650, 1368, 1080,...         5\n",
       "780                                [925, 193, 1215, 736]         3"
      ]
     },
     "execution_count": 7,
     "metadata": {},
     "output_type": "execute_result"
    }
   ],
   "source": [
    "df.sample(5)\n"
   ]
  },
  {
   "cell_type": "code",
   "execution_count": 8,
   "metadata": {},
   "outputs": [],
   "source": [
    "class BidirectionalLSTM(nn.Module):\n",
    "    \"\"\"\n",
    "    A bidirectional LSTM model for sequence classification.\n",
    "\n",
    "    Args:\n",
    "        vocab_size (int): Size of the vocabulary.\n",
    "        output_size (int): Number of output classes.\n",
    "        padding_idx (int): Padding index for the embedding layer.\n",
    "        embed_size (int, optional): Size of the embedding vectors (default: 128).\n",
    "        hidden_size (int, optional): Number of hidden units in the LSTM (default: 256).\n",
    "        num_layers (int, optional): Number of LSTM layers (default: 2).\n",
    "        dropout (float, optional): Dropout rate applied to LSTM outputs (default: 0.5).\n",
    "    \"\"\"\n",
    "\n",
    "    def __init__(self, vocab_size, output_size, padding_idx, embed_size=128, hidden_size=256, num_layers=2, dropout=0.5):\n",
    "        super(BidirectionalLSTM, self).__init__()\n",
    "        self.embedding = nn.Embedding(vocab_size, embed_size, padding_idx=padding_idx)\n",
    "        self.rnn = nn.LSTM(\n",
    "            embed_size,\n",
    "            hidden_size,\n",
    "            num_layers=num_layers,\n",
    "            bidirectional=True,\n",
    "            batch_first=True,\n",
    "            dropout=dropout,\n",
    "        )\n",
    "        self.dropout = nn.Dropout(dropout)\n",
    "        self.fc = nn.Linear(hidden_size * 2, output_size)\n",
    "\n",
    "    def forward(self, x):\n",
    "        embedded = self.embedding(x)\n",
    "        _, (hidden, _) = self.rnn(embedded)\n",
    "        hidden = torch.cat((hidden[-2], hidden[-1]), dim=1)\n",
    "        out = self.dropout(hidden)\n",
    "        out = self.fc(out)\n",
    "        return out\n"
   ]
  },
  {
   "cell_type": "code",
   "execution_count": 9,
   "metadata": {},
   "outputs": [],
   "source": [
    "def train_model(model, train_loader, num_epochs, optimizer, device=DEVICE, verbose=False):\n",
    "    \"\"\"\n",
    "    Trains the model for a specified number of epochs.\n",
    "    \"\"\"\n",
    "    criterion = nn.CrossEntropyLoss()\n",
    "    model.train()\n",
    "\n",
    "    for epoch in tqdm(range(num_epochs)):\n",
    "        epoch_loss = 0\n",
    "        correct = 0\n",
    "        total = 0\n",
    "\n",
    "        for texts, labels in train_loader:\n",
    "            texts, labels = texts.to(device), labels.to(device)\n",
    "\n",
    "            outputs = model(texts)\n",
    "            loss = criterion(outputs, labels)\n",
    "            optimizer.zero_grad()\n",
    "            loss.backward()\n",
    "            optimizer.step()\n",
    "\n",
    "            epoch_loss += loss.item()\n",
    "            _, predicted = torch.max(outputs, 1)\n",
    "            total += labels.size(0)\n",
    "            correct += (predicted == labels).sum().item()\n",
    "\n",
    "        if verbose:\n",
    "            print(f\"Epoch [{epoch+1}/{num_epochs}], Loss: {epoch_loss / len(train_loader):.4f}, Accuracy: {100 * correct / total:.2f}%\")\n"
   ]
  },
  {
   "cell_type": "code",
   "execution_count": 10,
   "metadata": {},
   "outputs": [],
   "source": [
    "def evaluate_model(model, test_loader, device=DEVICE, verbose=False):\n",
    "    \"\"\"\n",
    "    Evaluates the model on the test dataset. The function calculates and returns loss, accuracy, precision, recall\n",
    "    and F1 score for the model's predictions on the test data.\n",
    "    \"\"\"\n",
    "    criterion = nn.CrossEntropyLoss()\n",
    "    model.eval()\n",
    "\n",
    "    total, correct = 0, 0\n",
    "    total_loss = 0\n",
    "    all_labels = []\n",
    "    all_predictions = []\n",
    "\n",
    "    with torch.no_grad():\n",
    "        for texts, labels in test_loader:\n",
    "            texts, labels = texts.to(device), labels.to(device)\n",
    "\n",
    "            outputs = model(texts)\n",
    "            loss = criterion(outputs, labels)\n",
    "            total_loss += loss.item()\n",
    "\n",
    "            _, predicted = torch.max(outputs, 1)\n",
    "            total += labels.size(0)\n",
    "            correct += (predicted == labels).sum().item()\n",
    "\n",
    "            all_labels.extend(labels.cpu().numpy())\n",
    "            all_predictions.extend(predicted.cpu().numpy())\n",
    "\n",
    "    total_loss /= len(test_loader)\n",
    "    accuracy = correct / total\n",
    "\n",
    "    precision = precision_score(all_labels, all_predictions, average='weighted', zero_division=1)\n",
    "    recall = recall_score(all_labels, all_predictions, average='weighted')\n",
    "    f1 = f1_score(all_labels, all_predictions, average='weighted')\n",
    "\n",
    "    if verbose:\n",
    "        print(f\"Test Loss: {total_loss:.4f}, Test Accuracy: {accuracy * 100:.2f}%\")\n",
    "        print(f\"Precision: {precision:.4f}, Recall: {recall:.4f}, F1 Score: {f1:.4f}\")\n",
    "\n",
    "    return total_loss, accuracy, precision, recall, f1"
   ]
  },
  {
   "cell_type": "markdown",
   "metadata": {},
   "source": [
    "### Training\n",
    "In this section, we train the model, based on `NUM_EPOCHS` specified. We however, evaluate the model after each epoch and save the results to a prior specified file."
   ]
  },
  {
   "cell_type": "code",
   "execution_count": 11,
   "metadata": {},
   "outputs": [],
   "source": [
    "def run_centralised(model, train_loader, test_loader, epochs, lr, momentum=0.9, device=DEVICE, verbose=False):\n",
    "    \"\"\" \n",
    "    Trains and evaluates the model using centralized training.\n",
    "    \"\"\"\n",
    "    optim = torch.optim.SGD(model.parameters(), lr=lr, momentum=momentum)\n",
    "    train_model(model, train_loader, epochs, optim, device)\n",
    "    loss, accuracy, precision, recall, f1 = evaluate_model(model, test_loader, device)\n",
    "\n",
    "    if verbose:\n",
    "        print(f\"Accuracy: {accuracy:.4f}, Loss: {loss:.4f}\")\n",
    "        print(f\"Precision: {precision:.4f}, Recall: {recall:.4f}, F1 Score: {f1:.4f}\")\n",
    "\n",
    "    return accuracy, loss, precision, recall, f1\n"
   ]
  },
  {
   "cell_type": "markdown",
   "metadata": {},
   "source": [
    "Defining the file to save the results to:"
   ]
  },
  {
   "cell_type": "code",
   "execution_count": 12,
   "metadata": {},
   "outputs": [],
   "source": [
    "file_path = \"results/results_baseline.csv\"\n",
    "os.makedirs(\"results\", exist_ok=True)"
   ]
  },
  {
   "cell_type": "markdown",
   "metadata": {},
   "source": [
    "Initializing the bidirectional LSTM, based on the provided hyperparameters:"
   ]
  },
  {
   "cell_type": "code",
   "execution_count": 13,
   "metadata": {},
   "outputs": [],
   "source": [
    "model = BidirectionalLSTM(\n",
    "    vocab_size=len(vocab),\n",
    "    output_size= len(label_encoder.classes_),\n",
    "    padding_idx=vocab[\"<pad>\"],\n",
    "    embed_size=EMBED_SIZE,\n",
    "    hidden_size=HIDDEN_SIZE,\n",
    "    num_layers=NUM_LAYERS,\n",
    "    dropout=DROPOUT\n",
    ").to(DEVICE)"
   ]
  },
  {
   "cell_type": "markdown",
   "metadata": {},
   "source": [
    "Lastly, we need to start the training:"
   ]
  },
  {
   "cell_type": "code",
   "execution_count": 14,
   "metadata": {},
   "outputs": [
    {
     "name": "stderr",
     "output_type": "stream",
     "text": [
      "100%|██████████| 1/1 [2:03:08<00:00, 7388.44s/it]\n",
      "100%|██████████| 1/1 [1:23:40<00:00, 5020.63s/it]\n",
      "100%|██████████| 1/1 [1:47:34<00:00, 6454.67s/it]\n",
      "100%|██████████| 1/1 [1:28:07<00:00, 5287.09s/it]\n",
      "100%|██████████| 1/1 [1:26:41<00:00, 5201.05s/it]\n",
      "100%|██████████| 1/1 [1:42:22<00:00, 6142.52s/it]\n",
      "100%|██████████| 1/1 [1:47:59<00:00, 6479.30s/it]\n",
      "100%|██████████| 1/1 [1:44:07<00:00, 6247.70s/it]\n",
      "100%|██████████| 1/1 [1:27:03<00:00, 5223.63s/it]\n",
      "100%|██████████| 1/1 [6:35:27<00:00, 23727.25s/it]\n"
     ]
    },
    {
     "name": "stdout",
     "output_type": "stream",
     "text": [
      "CPU times: total: 1d 6h 58min 44s\n",
      "Wall time: 21h 51min 53s\n"
     ]
    }
   ],
   "source": [
    "%%time\n",
    "epochs_count = 0\n",
    "for epochs in range(NUM_EPOCHS):\n",
    "    epochs_count += 1\n",
    "    acc, loss, precision, recall, f1 = run_centralised(model, train_loader, test_loader, epochs=1, lr=LEARNING_RATE, verbose=False)\n",
    "    with open(file_path, \"a\") as file:\n",
    "        file.write(f\"{epochs_count},{acc},{loss},{precision},{recall},{f1}\\n\")"
   ]
  },
  {
   "cell_type": "markdown",
   "metadata": {},
   "source": [
    "## Towards Federated LSTM\n",
    "This section implements and evaluates the model we want to federate. Futher we implement the server and client for the federation process and start a simulation to evaluate its performance."
   ]
  },
  {
   "cell_type": "markdown",
   "metadata": {},
   "source": [
    "### Implementation\n",
    "First, we define the model itself with its necessary parameters."
   ]
  },
  {
   "cell_type": "code",
   "execution_count": 15,
   "metadata": {},
   "outputs": [],
   "source": [
    "class LSTM(nn.Module):\n",
    "    \"\"\"\n",
    "    A single-layer LSTM model for text classification.\n",
    "\n",
    "    Args:\n",
    "        vocab_size (int): Size of the vocabulary.\n",
    "        output_size (int): Number of output classes.\n",
    "        padding_idx (int): Padding index for the embedding layer.\n",
    "        embed_size (int, optional): Size of the embedding vectors (default: 128).\n",
    "        hidden_size (int, optional): Number of hidden units in the LSTM (default: 256).\n",
    "        num_layers (int, optional): Number of LSTM layers (default: 2).\n",
    "        dropout (float, optional): Dropout rate applied to LSTM outputs (default: 0.5).\n",
    "    \"\"\"\n",
    "    def __init__(\n",
    "        self,\n",
    "        vocab_size,\n",
    "        output_size,\n",
    "        padding_idx,\n",
    "        embed_size=128,\n",
    "        hidden_size=256,\n",
    "        num_layers=2,\n",
    "        dropout=0.5,\n",
    "    ):\n",
    "        super(LSTM, self).__init__()\n",
    "        self.embedding = nn.Embedding(vocab_size, embed_size, padding_idx=padding_idx)\n",
    "        self.rnn = nn.LSTM(\n",
    "            embed_size,\n",
    "            hidden_size,\n",
    "            num_layers=num_layers,\n",
    "            batch_first=True,\n",
    "            bidirectional=False,\n",
    "            dropout=dropout,\n",
    "        )\n",
    "        self.dropout = nn.Dropout(dropout)\n",
    "        self.fc = nn.Linear(hidden_size, output_size)\n",
    "\n",
    "    def forward(self, x):\n",
    "        embedded = self.embedding(x)\n",
    "        _, (hidden, _) = self.rnn(embedded)\n",
    "        hidden = hidden[-1]\n",
    "        out = self.dropout(hidden)\n",
    "        out = self.fc(out)\n",
    "        return out\n"
   ]
  },
  {
   "cell_type": "markdown",
   "metadata": {},
   "source": [
    "### Training\n",
    "To have a value to compare to, we train and evaluate the model based on `NUM_EPOCHS` specified. The reason for this is to see how well the model overall performs and furthermore have a upper bound for our federated model performance."
   ]
  },
  {
   "cell_type": "markdown",
   "metadata": {},
   "source": [
    "First, define the file to save the results to:"
   ]
  },
  {
   "cell_type": "code",
   "execution_count": 16,
   "metadata": {},
   "outputs": [],
   "source": [
    "file_path = \"results/results_no_fed.csv\"\n",
    "os.makedirs(\"results\", exist_ok=True)"
   ]
  },
  {
   "cell_type": "markdown",
   "metadata": {},
   "source": [
    "Initializing the uni-directional LSTM, based on the provided hyperparameters:"
   ]
  },
  {
   "cell_type": "code",
   "execution_count": 17,
   "metadata": {},
   "outputs": [],
   "source": [
    "model = LSTM(\n",
    "    vocab_size=len(vocab),\n",
    "    output_size= len(label_encoder.classes_),\n",
    "    padding_idx=vocab[\"<pad>\"],\n",
    "    embed_size=EMBED_SIZE,\n",
    "    hidden_size=HIDDEN_SIZE,\n",
    "    num_layers=NUM_LAYERS,\n",
    "    dropout=DROPOUT\n",
    ").to(DEVICE)"
   ]
  },
  {
   "cell_type": "markdown",
   "metadata": {},
   "source": [
    "Initializing the bidirectional LSTM, based on the provided hyperparameters:"
   ]
  },
  {
   "cell_type": "code",
   "execution_count": 18,
   "metadata": {},
   "outputs": [
    {
     "name": "stderr",
     "output_type": "stream",
     "text": [
      "100%|██████████| 1/1 [1:57:31<00:00, 7051.87s/it]\n"
     ]
    },
    {
     "name": "stdout",
     "output_type": "stream",
     "text": [
      "CPU times: total: 2h 33s\n",
      "Wall time: 1h 58min 26s\n"
     ]
    }
   ],
   "source": [
    "%%time\n",
    "epochs_count = 0\n",
    "for epochs in range(1):\n",
    "    epochs_count += epochs\n",
    "    acc, loss, precision, recall, f1 = run_centralised(model, train_loader, test_loader, epochs=1, lr=LEARNING_RATE, verbose=False)\n",
    "    with open(file_path, \"a\") as file:\n",
    "       file.write(f\"{epochs_count},{acc},{loss},{precision},{recall},{f1}\\n\")\n"
   ]
  },
  {
   "cell_type": "markdown",
   "metadata": {},
   "source": [
    "### Federated LSTM\n",
    "Now we deal with federating the model and data."
   ]
  },
  {
   "cell_type": "markdown",
   "metadata": {},
   "source": [
    "#### Partition data\n",
    "We start by partitioning the data into `num_partitions`. This is crucial for further work."
   ]
  },
  {
   "cell_type": "code",
   "execution_count": 28,
   "metadata": {},
   "outputs": [],
   "source": [
    "import torch\n",
    "from torch.utils.data import DataLoader, Subset\n",
    "from sklearn.model_selection import StratifiedKFold\n",
    "from collections import Counter\n",
    "\n",
    "def partition_dataset_stratified(train_loader, test_loader, vocab, num_partitions, batch_size, val_ratio=0.1):\n",
    "    \"\"\" \n",
    "    Partitions the training dataset into subsets with stratified sampling and creates DataLoaders.\n",
    "    Ensures label distribution is equal across all partitions while excluding rare classes.\n",
    "    \"\"\"\n",
    "    # Extract dataset from DataLoader\n",
    "    train_dataset = train_loader.dataset\n",
    "    test_dataset = test_loader.dataset\n",
    "\n",
    "    # Extract labels\n",
    "    all_labels = [train_dataset[i][1].item() for i in range(len(train_dataset))]\n",
    "\n",
    "    # Compute class distribution\n",
    "    class_counts = Counter(all_labels)\n",
    "    print(\"Class Distribution Before Filtering:\", class_counts)\n",
    "\n",
    "    # Identify rare classes to exclude (e.g., classes with <= 1 sample)\n",
    "    rare_classes = [cls for cls, count in class_counts.items() if count <= 1]\n",
    "    print(\"Rare Classes to Exclude:\", rare_classes)\n",
    "\n",
    "    # Filter out rare classes\n",
    "    filtered_indices = [i for i in range(len(train_dataset)) if train_dataset[i][1].item() not in rare_classes]\n",
    "    filtered_dataset = Subset(train_dataset, filtered_indices)\n",
    "\n",
    "    # Update labels after filtering\n",
    "    filtered_labels = [filtered_dataset[i][1].item() for i in range(len(filtered_dataset))]\n",
    "\n",
    "    # Stratified K-Fold for splitting dataset into partitions\n",
    "    skf = StratifiedKFold(n_splits=num_partitions, shuffle=True, random_state=2023)\n",
    "    partitions = list(skf.split(range(len(filtered_dataset)), filtered_labels))\n",
    "\n",
    "    trainloaders = []\n",
    "    valloaders = []\n",
    "\n",
    "    for train_idx, val_idx in partitions:\n",
    "        # Further split the training indices into training and validation sets\n",
    "        train_subset = Subset(filtered_dataset, train_idx)\n",
    "        val_subset = Subset(filtered_dataset, val_idx)\n",
    "        \n",
    "        # Create DataLoaders for train and validation subsets\n",
    "        trainloaders.append(DataLoader(train_subset, batch_size=batch_size, shuffle=True, \n",
    "                                       num_workers=0, collate_fn=lambda x: _collate_fn(x, vocab)))\n",
    "        valloaders.append(DataLoader(val_subset, batch_size=batch_size, shuffle=False, \n",
    "                                     num_workers=0, collate_fn=lambda x: _collate_fn(x, vocab)))\n",
    "\n",
    "    # Create DataLoader for the test set\n",
    "    testloader = DataLoader(test_dataset, batch_size=128, collate_fn=lambda x: _collate_fn(x, vocab))\n",
    "\n",
    "    return trainloaders, valloaders, testloader\n"
   ]
  },
  {
   "cell_type": "code",
   "execution_count": 29,
   "metadata": {},
   "outputs": [
    {
     "name": "stdout",
     "output_type": "stream",
     "text": [
      "Class Distribution Before Filtering: Counter({3: 13000, 2: 12366, 6: 8569, 0: 3108, 1: 2296, 5: 2140, 4: 954, 7: 1})\n",
      "Rare Classes to Exclude: [7]\n"
     ]
    }
   ],
   "source": [
    "trainloaders, valloaders, testloader = partition_dataset_stratified(train_loader, test_loader, vocab, NUM_CLIENTS, BATCH_SIZE)"
   ]
  },
  {
   "cell_type": "markdown",
   "metadata": {},
   "source": [
    "##### Visualization\n",
    "We also added a small visualization of the distribution of classes within on partition."
   ]
  },
  {
   "cell_type": "code",
   "execution_count": 31,
   "metadata": {},
   "outputs": [
    {
     "name": "stdout",
     "output_type": "stream",
     "text": [
      "Client 0 Label Distribution: (array([0, 1, 2, 3, 4, 5, 6], dtype=int64), array([ 2900,  2143, 11541, 12133,   891,  1998,  7998], dtype=int64))\n",
      "Client 1 Label Distribution: (array([0, 1, 2, 3, 4, 5, 6], dtype=int64), array([ 2900,  2143, 11541, 12133,   891,  1998,  7998], dtype=int64))\n",
      "Client 2 Label Distribution: (array([0, 1, 2, 3, 4, 5, 6], dtype=int64), array([ 2900,  2143, 11541, 12133,   891,  1998,  7998], dtype=int64))\n",
      "Client 3 Label Distribution: (array([0, 1, 2, 3, 4, 5, 6], dtype=int64), array([ 2901,  2142, 11541, 12134,   891,  1997,  7998], dtype=int64))\n",
      "Client 4 Label Distribution: (array([0, 1, 2, 3, 4, 5, 6], dtype=int64), array([ 2901,  2143, 11542, 12134,   890,  1997,  7997], dtype=int64))\n",
      "Client 5 Label Distribution: (array([0, 1, 2, 3, 4, 5, 6], dtype=int64), array([ 2901,  2143, 11542, 12134,   890,  1997,  7997], dtype=int64))\n",
      "Client 6 Label Distribution: (array([0, 1, 2, 3, 4, 5, 6], dtype=int64), array([ 2901,  2143, 11542, 12134,   890,  1997,  7997], dtype=int64))\n",
      "Client 7 Label Distribution: (array([0, 1, 2, 3, 4, 5, 6], dtype=int64), array([ 2901,  2143, 11542, 12134,   890,  1997,  7997], dtype=int64))\n",
      "Client 8 Label Distribution: (array([0, 1, 2, 3, 4, 5, 6], dtype=int64), array([ 2901,  2143, 11542, 12133,   890,  1997,  7998], dtype=int64))\n",
      "Client 9 Label Distribution: (array([0, 1, 2, 3, 4, 5, 6], dtype=int64), array([ 2901,  2143, 11542, 12133,   890,  1997,  7998], dtype=int64))\n",
      "Client 10 Label Distribution: (array([0, 1, 2, 3, 4, 5, 6], dtype=int64), array([ 2901,  2143, 11542, 12133,   890,  1997,  7998], dtype=int64))\n",
      "Client 11 Label Distribution: (array([0, 1, 2, 3, 4, 5, 6], dtype=int64), array([ 2901,  2143, 11542, 12133,   890,  1997,  7998], dtype=int64))\n",
      "Client 12 Label Distribution: (array([0, 1, 2, 3, 4, 5, 6], dtype=int64), array([ 2901,  2143, 11542, 12133,   890,  1997,  7998], dtype=int64))\n",
      "Client 13 Label Distribution: (array([0, 1, 2, 3, 4, 5, 6], dtype=int64), array([ 2901,  2143, 11541, 12133,   891,  1998,  7998], dtype=int64))\n",
      "Client 14 Label Distribution: (array([0, 1, 2, 3, 4, 5, 6], dtype=int64), array([ 2901,  2143, 11541, 12133,   891,  1998,  7998], dtype=int64))\n"
     ]
    }
   ],
   "source": [
    "for i, loader in enumerate(trainloaders):\n",
    "    labels = []\n",
    "    for _, batch_labels in loader:\n",
    "        labels.extend(batch_labels.numpy())\n",
    "    print(f\"Client {i} Label Distribution: {np.unique(labels, return_counts=True)}\")\n"
   ]
  },
  {
   "cell_type": "code",
   "execution_count": 32,
   "metadata": {},
   "outputs": [
    {
     "data": {
      "image/png": "[encoded data removed]",
      "text/plain": [
       "<Figure size 640x480 with 1 Axes>"
      ]
     },
     "metadata": {},
     "output_type": "display_data"
    }
   ],
   "source": [
    "train_partition = trainloaders[1].dataset\n",
    "partition_indices = train_partition.indices\n",
    "\n",
    "plt.hist([train_partition.dataset[idx][1].item() for idx in partition_indices], bins=len(label_encoder.classes_), edgecolor=\"black\")\n",
    "plt.grid()\n"
   ]
  },
  {
   "cell_type": "code",
   "execution_count": 33,
   "metadata": {},
   "outputs": [
    {
     "name": "stdout",
     "output_type": "stream",
     "text": [
      "Unique Labels: [0, 1, 2, 3, 4, 5, 6]\n",
      "Number of Unique Labels: 7\n"
     ]
    }
   ],
   "source": [
    "# Combine all labels into a single tensor\n",
    "all_labels = torch.tensor([label for _, label in train_partition.dataset])\n",
    "\n",
    "# Get unique labels\n",
    "unique_labels = torch.unique(all_labels)\n",
    "num_unique_labels = unique_labels.size(0)\n",
    "\n",
    "print(f\"Unique Labels: {unique_labels.tolist()}\")\n",
    "print(f\"Number of Unique Labels: {num_unique_labels}\")\n"
   ]
  },
  {
   "cell_type": "markdown",
   "metadata": {},
   "source": [
    "#### Client\n",
    "Next, we implement the client based on the Flower library"
   ]
  },
  {
   "cell_type": "code",
   "execution_count": 34,
   "metadata": {},
   "outputs": [],
   "source": [
    "class Client(fl.client.NumPyClient):\n",
    "    \"\"\"\n",
    "    A Federated Learning client for training and evaluating an LSTM model on the dataset.\n",
    "    \"\"\"\n",
    "    def __init__(self, vocab_size, output_size, padding_idx, embed_size, hidden_size, num_layers, dropout, device, learning_rate, trainloader, valloader) -> None:\n",
    "        super().__init__()\n",
    "\n",
    "        self.trainloader = trainloader\n",
    "        self.valloader = valloader\n",
    "        self.device = device\n",
    "        self.learning_rate = learning_rate\n",
    "        self.model = LSTM(\n",
    "            vocab_size=vocab_size,\n",
    "            output_size= output_size,\n",
    "            padding_idx=padding_idx,\n",
    "            embed_size=embed_size,\n",
    "            hidden_size=hidden_size,\n",
    "            num_layers=num_layers,\n",
    "            dropout=dropout\n",
    "        ).to(device)\n",
    "\n",
    "\n",
    "    def set_parameters(self, parameters):\n",
    "        \"\"\" \n",
    "        Sets the model parameters from the provided list.\n",
    "        \"\"\"\n",
    "        params_dict = zip(self.model.state_dict().keys(), parameters)\n",
    "        state_dict = OrderedDict({k: torch.Tensor(v) for k, v in params_dict})\n",
    "        self.model.load_state_dict(state_dict, strict=True)\n",
    "\n",
    "    def get_parameters(self, config):\n",
    "        \"\"\"\n",
    "        Returns the model parameters as a list of numpy arrays.\n",
    "        \"\"\"\n",
    "        return [val.cpu().numpy() for _, val in self.model.state_dict().items()]\n",
    "\n",
    "    def fit(self, parameters, config):\n",
    "        \"\"\"\n",
    "        Trains the model on the local training data with the given parameters.\n",
    "        \"\"\"\n",
    "        self.set_parameters(parameters)\n",
    "        optim = torch.optim.SGD(self.model.parameters(), lr=self.learning_rate, momentum=0.9)\n",
    "        train_model(model=self.model, train_loader=self.trainloader, num_epochs=1, optimizer=optim, device=self.device, verbose=False,)\n",
    "        return self.get_parameters({}), len(self.trainloader), {}\n",
    "\n",
    "    def evaluate(self, parameters, config):\n",
    "        \"\"\"\n",
    "        Evaluates the model on the local validation data with the given parameters.\n",
    "        \"\"\"\n",
    "        self.set_parameters(parameters)\n",
    "        loss, accuracy, precision, recall, f1 = evaluate_model(self.model, self.valloader)\n",
    "        return float(loss), len(self.valloader), {\"accuracy\": accuracy, \"precision\": precision, \"recall\": recall, \"f1\": f1}"
   ]
  },
  {
   "cell_type": "markdown",
   "metadata": {},
   "source": [
    "And add some additional function to create and evaluate the client."
   ]
  },
  {
   "cell_type": "code",
   "execution_count": 36,
   "metadata": {},
   "outputs": [],
   "source": [
    "def get_evaluate_fn(vocab_size, output_size, padding_idx, embed_size, hidden_size, num_layers, dropout, device, testloader):\n",
    "    \"\"\"\n",
    "    Creates an evaluation function for federated learning.\n",
    "    \"\"\"\n",
    "    def evaluate_fn(server_round, parameters, config):\n",
    "        model = LSTM(\n",
    "            vocab_size=vocab_size,\n",
    "            output_size= output_size,\n",
    "            padding_idx=padding_idx,\n",
    "            embed_size=embed_size,\n",
    "            hidden_size=hidden_size,\n",
    "            num_layers=num_layers,\n",
    "            dropout=dropout\n",
    "        ).to(device)\n",
    "\n",
    "        params_dict = zip(model.state_dict().keys(), parameters)\n",
    "        state_dict = OrderedDict({k: torch.Tensor(v) for k, v in params_dict})\n",
    "        model.load_state_dict(state_dict, strict=True)\n",
    "\n",
    "        loss, accuracy, precision, recall, f1 = evaluate_model(\n",
    "            model, testloader\n",
    "        )\n",
    "        return loss, {\"accuracy\": accuracy, \"precision\": precision, \"recall\": recall, \"f1\": f1}\n",
    "\n",
    "    return evaluate_fn"
   ]
  },
  {
   "cell_type": "code",
   "execution_count": 37,
   "metadata": {},
   "outputs": [],
   "source": [
    "def generate_client_fn(vocab_size, output_size, padding_idx, embed_size, hidden_size, num_layers, dropout, device, learning_rate, trainloaders, valloaders):\n",
    "    \"\"\"\n",
    "    Creates a client function for federated learning.\n",
    "    \"\"\"\n",
    "    def client_fn(cid: str):\n",
    "        return Client(vocab_size, output_size, padding_idx, embed_size, hidden_size, num_layers, dropout, device, learning_rate, trainloader=trainloaders[int(cid)], valloader=valloaders[int(cid)]).to_client()\n",
    "\n",
    "    return client_fn"
   ]
  },
  {
   "cell_type": "markdown",
   "metadata": {},
   "source": [
    "#### Server\n",
    "Lastly, we configure the aggregating strategy for the server and define the number of clients via the `NUM_CLIENTS` parameter. We further use all models to train and evaluate on all models available."
   ]
  },
  {
   "cell_type": "code",
   "execution_count": 38,
   "metadata": {},
   "outputs": [],
   "source": [
    "strategy = fl.server.strategy.FedAvg(\n",
    "    fraction_fit=0.5, \n",
    "    fraction_evaluate=1,  \n",
    "    min_available_clients=NUM_CLIENTS, \n",
    "    evaluate_fn=get_evaluate_fn(len(vocab), len(label_encoder.classes_), vocab[\"<pad>\"], EMBED_SIZE, HIDDEN_SIZE, NUM_LAYERS, DROPOUT, DEVICE, testloader)\n",
    ")"
   ]
  },
  {
   "cell_type": "code",
   "execution_count": 39,
   "metadata": {},
   "outputs": [],
   "source": [
    "client_fn_callback = generate_client_fn(len(vocab), len(label_encoder.classes_), vocab[\"<pad>\"], EMBED_SIZE, HIDDEN_SIZE, NUM_LAYERS, DROPOUT, DEVICE, LEARNING_RATE, trainloaders, valloaders)"
   ]
  },
  {
   "cell_type": "markdown",
   "metadata": {},
   "source": [
    "#### Training\n",
    "Next, we start the simulation of our federated ml model "
   ]
  },
  {
   "cell_type": "code",
   "execution_count": null,
   "metadata": {},
   "outputs": [
    {
     "name": "stderr",
     "output_type": "stream",
     "text": [
      "\u001b[92mINFO \u001b[0m:      Starting Flower simulation, config: num_rounds=3, no round_timeout\n",
      "2024-11-21 23:36:05,297\tINFO worker.py:1819 -- Started a local Ray instance.\n",
      "\u001b[92mINFO \u001b[0m:      Flower VCE: Ray initialized with resources: {'accelerator_type:G': 1.0, 'node:__internal_head__': 1.0, 'CPU': 8.0, 'object_store_memory': 249574195.0, 'node:127.0.0.1': 1.0, 'memory': 499148391.0, 'GPU': 1.0}\n",
      "\u001b[92mINFO \u001b[0m:      Optimize your simulation with Flower VCE: https://flower.ai/docs/framework/how-to-run-simulations.html\n",
      "\u001b[92mINFO \u001b[0m:      No `client_resources` specified. Using minimal resources for clients.\n",
      "\u001b[92mINFO \u001b[0m:      Flower VCE: Resources for each Virtual Client: {'num_cpus': 1, 'num_gpus': 0.0}\n",
      "\u001b[92mINFO \u001b[0m:      Flower VCE: Creating VirtualClientEngineActorPool with 8 actors\n",
      "\u001b[92mINFO \u001b[0m:      [INIT]\n",
      "\u001b[92mINFO \u001b[0m:      Requesting initial parameters from one random client\n",
      "\u001b[36m(ClientAppActor pid=23220)\u001b[0m \u001b[93mWARNING \u001b[0m:   DEPRECATED FEATURE: `client_fn` now expects a signature `def client_fn(context: Context)`.The provided `client_fn` has signature: {'cid': <Parameter \"cid: str\">}. You can import the `Context` like this: `from flwr.common import Context`\n",
      "\u001b[36m(ClientAppActor pid=23220)\u001b[0m \n",
      "\u001b[36m(ClientAppActor pid=23220)\u001b[0m             This is a deprecated feature. It will be removed\n",
      "\u001b[36m(ClientAppActor pid=23220)\u001b[0m             entirely in future versions of Flower.\n",
      "\u001b[36m(ClientAppActor pid=23220)\u001b[0m         \n",
      "\u001b[92mINFO \u001b[0m:      Received initial parameters from one random client\n",
      "\u001b[92mINFO \u001b[0m:      Starting evaluation of initial global parameters\n",
      "\u001b[92mINFO \u001b[0m:      initial parameters (loss, other metrics): 2.078700240836086, {'accuracy': 0.023187859364690356, 'precision': 0.6115329331426771, 'recall': 0.023187859364690356, 'f1': 0.0010597467412486851}\n",
      "\u001b[92mINFO \u001b[0m:      \n",
      "\u001b[92mINFO \u001b[0m:      [ROUND 1]\n",
      "\u001b[92mINFO \u001b[0m:      configure_fit: strategy sampled 3 clients (out of 7)\n",
      "\u001b[36m(ClientAppActor pid=23220)\u001b[0m \u001b[93mWARNING \u001b[0m:   DEPRECATED FEATURE: `client_fn` now expects a signature `def client_fn(context: Context)`.The provided `client_fn` has signature: {'cid': <Parameter \"cid: str\">}. You can import the `Context` like this: `from flwr.common import Context`\n",
      "\u001b[36m(ClientAppActor pid=23220)\u001b[0m \n",
      "\u001b[36m(ClientAppActor pid=23220)\u001b[0m             This is a deprecated feature. It will be removed\n",
      "\u001b[36m(ClientAppActor pid=23220)\u001b[0m             entirely in future versions of Flower.\n",
      "\u001b[36m(ClientAppActor pid=23220)\u001b[0m         \n",
      "  0%|          | 0/1 [00:00<?, ?it/s]\n",
      "\u001b[36m(ClientAppActor pid=35068)\u001b[0m \u001b[93mWARNING \u001b[0m:   DEPRECATED FEATURE: `client_fn` now expects a signature `def client_fn(context: Context)`.The provided `client_fn` has signature: {'cid': <Parameter \"cid: str\">}. You can import the `Context` like this: `from flwr.common import Context`\n",
      "\u001b[36m(ClientAppActor pid=35068)\u001b[0m \n",
      "\u001b[36m(ClientAppActor pid=35068)\u001b[0m             This is a deprecated feature. It will be removed\n",
      "\u001b[36m(ClientAppActor pid=35068)\u001b[0m             entirely in future versions of Flower.\n",
      "\u001b[36m(ClientAppActor pid=35068)\u001b[0m         \n",
      "\u001b[36m(ClientAppActor pid=27656)\u001b[0m \n",
      "\u001b[36m(ClientAppActor pid=27656)\u001b[0m         \n",
      "  0%|          | 0/1 [00:00<?, ?it/s]\n",
      "\u001b[36m(ClientAppActor pid=27656)\u001b[0m \u001b[93mWARNING \u001b[0m:   DEPRECATED FEATURE: `client_fn` now expects a signature `def client_fn(context: Context)`.The provided `client_fn` has signature: {'cid': <Parameter \"cid: str\">}. You can import the `Context` like this: `from flwr.common import Context`\n",
      "\u001b[36m(ClientAppActor pid=27656)\u001b[0m             This is a deprecated feature. It will be removed\n",
      "\u001b[36m(ClientAppActor pid=27656)\u001b[0m             entirely in future versions of Flower.\n",
      "100%|██████████| 1/1 [3:15:08<00:00, 11707.69s/it]\n",
      "  0%|          | 0/1 [00:00<?, ?it/s]\n",
      "100%|██████████| 1/1 [3:15:09<00:00, 11709.40s/it]\n",
      "100%|██████████| 1/1 [3:15:19<00:00, 11719.36s/it]\n",
      "100%|██████████| 1/1 [3:18:55<00:00, 11935.34s/it]\n",
      "\u001b[92mINFO \u001b[0m:      aggregate_fit: received 3 results and 0 failures\n",
      "\u001b[93mWARNING \u001b[0m:   No fit_metrics_aggregation_fn provided\n",
      "\u001b[92mINFO \u001b[0m:      fit progress: (1, 1.6327566037695092, {'accuracy': 0.31831463851446884, 'precision': 0.6710997920848002, 'recall': 0.31831463851446884, 'f1': 0.15694344409464597}, 12022.7637293)\n",
      "\u001b[92mINFO \u001b[0m:      configure_evaluate: strategy sampled 7 clients (out of 7)\n",
      "\u001b[36m(ClientAppActor pid=23220)\u001b[0m \u001b[93mWARNING \u001b[0m:   DEPRECATED FEATURE: `client_fn` now expects a signature `def client_fn(context: Context)`.The provided `client_fn` has signature: {'cid': <Parameter \"cid: str\">}. You can import the `Context` like this: `from flwr.common import Context`\n",
      "\u001b[36m(ClientAppActor pid=23220)\u001b[0m \n",
      "\u001b[36m(ClientAppActor pid=23220)\u001b[0m             This is a deprecated feature. It will be removed\n",
      "\u001b[36m(ClientAppActor pid=23220)\u001b[0m             entirely in future versions of Flower.\n",
      "\u001b[36m(ClientAppActor pid=23220)\u001b[0m         \n",
      "\u001b[36m(ClientAppActor pid=27656)\u001b[0m \n",
      "\u001b[36m(ClientAppActor pid=27656)\u001b[0m         \n",
      "\u001b[36m(ClientAppActor pid=35068)\u001b[0m \n",
      "\u001b[36m(ClientAppActor pid=35068)\u001b[0m         \n",
      "\u001b[36m(ClientAppActor pid=35068)\u001b[0m \u001b[93mWARNING \u001b[0m:   DEPRECATED FEATURE: `client_fn` now expects a signature `def client_fn(context: Context)`.The provided `client_fn` has signature: {'cid': <Parameter \"cid: str\">}. You can import the `Context` like this: `from flwr.common import Context`\u001b[32m [repeated 2x across cluster] (Ray deduplicates logs by default. Set RAY_DEDUP_LOGS=0 to disable log deduplication, or see https://docs.ray.io/en/master/ray-observability/user-guides/configure-logging.html#log-deduplication for more options.)\u001b[0m\n",
      "\u001b[36m(ClientAppActor pid=35068)\u001b[0m             This is a deprecated feature. It will be removed\u001b[32m [repeated 2x across cluster]\u001b[0m\n",
      "\u001b[36m(ClientAppActor pid=35068)\u001b[0m             entirely in future versions of Flower.\u001b[32m [repeated 2x across cluster]\u001b[0m\n",
      "\u001b[36m(ClientAppActor pid=25864)\u001b[0m \n",
      "\u001b[36m(ClientAppActor pid=25864)\u001b[0m         \n",
      "\u001b[36m(ClientAppActor pid=25864)\u001b[0m \u001b[93mWARNING \u001b[0m:   DEPRECATED FEATURE: `client_fn` now expects a signature `def client_fn(context: Context)`.The provided `client_fn` has signature: {'cid': <Parameter \"cid: str\">}. You can import the `Context` like this: `from flwr.common import Context`\n",
      "\u001b[36m(ClientAppActor pid=25864)\u001b[0m             This is a deprecated feature. It will be removed\n",
      "\u001b[36m(ClientAppActor pid=25864)\u001b[0m             entirely in future versions of Flower.\n",
      "\u001b[36m(ClientAppActor pid=27844)\u001b[0m \u001b[93mWARNING \u001b[0m:   DEPRECATED FEATURE: `client_fn` now expects a signature `def client_fn(context: Context)`.The provided `client_fn` has signature: {'cid': <Parameter \"cid: str\">}. You can import the `Context` like this: `from flwr.common import Context`\n",
      "\u001b[36m(ClientAppActor pid=27844)\u001b[0m \n",
      "\u001b[36m(ClientAppActor pid=27844)\u001b[0m             This is a deprecated feature. It will be removed\n",
      "\u001b[36m(ClientAppActor pid=27844)\u001b[0m             entirely in future versions of Flower.\n",
      "\u001b[36m(ClientAppActor pid=27844)\u001b[0m         \n"
     ]
    }
   ],
   "source": [
    "# Run the simulation\n",
    "history = fl.simulation.start_simulation(\n",
    "    client_fn=client_fn_callback,\n",
    "    num_clients=NUM_CLIENTS,\n",
    "    config=fl.server.ServerConfig(num_rounds=NUM_EPOCHS),\n",
    "    strategy=strategy,\n",
    ")"
   ]
  },
  {
   "cell_type": "markdown",
   "metadata": {},
   "source": [
    "##### Results\n",
    "Lastly, we save the results to a csv file"
   ]
  },
  {
   "cell_type": "code",
   "execution_count": null,
   "metadata": {},
   "outputs": [
    {
     "name": "stdout",
     "output_type": "stream",
     "text": [
      "Metrics saved to results\\results_federated_15_clients.csv\n"
     ]
    }
   ],
   "source": [
    "import os\n",
    "import pandas as pd\n",
    "\n",
    "# Create the directory if it doesn't exist\n",
    "output_dir = \"results\"\n",
    "if not os.path.exists(output_dir):\n",
    "    os.makedirs(output_dir)\n",
    "\n",
    "# Saving the CSV file\n",
    "rows = []\n",
    "for i in range(len(history.metrics_centralized['accuracy'])):\n",
    "    loss = history.losses_centralized[i][1]\n",
    "    epoch = history.metrics_centralized['accuracy'][i][0]\n",
    "    accuracy = history.metrics_centralized['accuracy'][i][1]\n",
    "    precision = history.metrics_centralized['precision'][i][1]\n",
    "    recall = history.metrics_centralized['recall'][i][1]\n",
    "    f1 = history.metrics_centralized['f1'][i][1]\n",
    "    \n",
    "    rows.append({\n",
    "        'epoch_nr': epoch,\n",
    "        'accuracy': accuracy,\n",
    "        \"loss\": loss,\n",
    "        'precision': precision,\n",
    "        'recall': recall,\n",
    "        'f1': f1\n",
    "    })\n",
    "\n",
    "df_metrics = pd.DataFrame(rows)\n",
    "\n",
    "# Save the DataFrame to a CSV file in the results directory\n",
    "csv_file_path = os.path.join(output_dir, f\"results_federated_{NUM_CLIENTS}_clients.csv\")\n",
    "df_metrics.to_csv(csv_file_path, index=False)\n",
    "\n",
    "print(f\"Metrics saved to {csv_file_path}\")\n"
   ]
  },
  {
   "cell_type": "code",
   "execution_count": null,
   "metadata": {},
   "outputs": [
    {
     "name": "stdout",
     "output_type": "stream",
     "text": [
      "Model saved to server_model.pth\n"
     ]
    },
    {
     "name": "stderr",
     "output_type": "stream",
     "text": [
      "C:\\Users\\hp\\AppData\\Local\\Temp\\ipykernel_19684\\3074798946.py:65: FutureWarning: You are using `torch.load` with `weights_only=False` (the current default value), which uses the default pickle module implicitly. It is possible to construct malicious pickle data which will execute arbitrary code during unpickling (See https://github.com/pytorch/pytorch/blob/main/SECURITY.md#untrusted-models for more details). In a future release, the default value for `weights_only` will be flipped to `True`. This limits the functions that could be executed during unpickling. Arbitrary objects will no longer be allowed to be loaded via this mode unless they are explicitly allowlisted by the user via `torch.serialization.add_safe_globals`. We recommend you start setting `weights_only=True` for any use case where you don't have full control of the loaded file. Please open an issue on GitHub for any issues related to this experimental feature.\n",
      "  model.load_state_dict(torch.load(model_path, map_location=DEVICE))\n"
     ]
    },
    {
     "name": "stdout",
     "output_type": "stream",
     "text": [
      "Model loaded successfully.\n",
      "The predicted class is: Normal\n"
     ]
    }
   ],
   "source": [
    "import torch\n",
    "from torch.nn.utils.rnn import pad_sequence\n",
    "import nltk\n",
    "\n",
    "# Define the function to save the server model\n",
    "def save_model(model, path=\"server_model.pth\"):\n",
    "    torch.save(model.state_dict(), path)\n",
    "    print(f\"Model saved to {path}\")\n",
    "\n",
    "# Function to preprocess a custom input\n",
    "def preprocess_input(text, vocab, maxlen):\n",
    "    # Remove stopwords and tokenize\n",
    "    stop = set(nltk.corpus.stopwords.words(\"english\"))\n",
    "    text = (\n",
    "        pd.Series([text])\n",
    "        .str.lower()\n",
    "        .replace(r\"[^\\w\\s]\", \"\", regex=True)\n",
    "        .apply(nltk.word_tokenize)\n",
    "        .apply(lambda sentence: [word for word in sentence if word not in stop])\n",
    "    ).iloc[0]\n",
    "\n",
    "    # Convert tokens to indices\n",
    "    text_indices = [vocab[token] for token in text]\n",
    "    \n",
    "    # Pad the input to match the maximum length\n",
    "    text_padded = pad_sequence(\n",
    "        [torch.tensor(text_indices, dtype=torch.long)],\n",
    "        batch_first=True,\n",
    "        padding_value=vocab[\"<pad>\"],\n",
    "    )\n",
    "    \n",
    "    return text_padded\n",
    "\n",
    "# Define a function to classify custom input\n",
    "def classify_input(model, text, vocab, label_encoder, maxlen, device):\n",
    "    model.eval()  # Set the model to evaluation mode\n",
    "    with torch.no_grad():\n",
    "        # Preprocess the input\n",
    "        preprocessed_text = preprocess_input(text, vocab, maxlen).to(device)\n",
    "        \n",
    "        # Pass the input through the model\n",
    "        logits = model(preprocessed_text)\n",
    "        prediction = torch.argmax(logits, dim=1).item()\n",
    "        \n",
    "        # Decode the label\n",
    "        predicted_label = label_encoder.inverse_transform([prediction])[0]\n",
    "        \n",
    "        return predicted_label\n",
    "\n",
    "# After federated training completes\n",
    "# Save the server model\n",
    "save_model(model)\n",
    "\n",
    "# Load the saved model (optional, to ensure it's working correctly)\n",
    "model_path = \"server_model.pth\"\n",
    "model = LSTM(\n",
    "    vocab_size=len(vocab),\n",
    "    output_size=len(label_encoder.classes_),\n",
    "    padding_idx=vocab[\"<pad>\"],\n",
    "    embed_size=EMBED_SIZE,\n",
    "    hidden_size=HIDDEN_SIZE,\n",
    "    num_layers=NUM_LAYERS,\n",
    "    dropout=DROPOUT,\n",
    ").to(DEVICE)\n",
    "model.load_state_dict(torch.load(model_path, map_location=DEVICE))\n",
    "print(\"Model loaded successfully.\")\n",
    "\n",
    "# Take custom input from the user\n",
    "custom_text = input(\"Enter a text for classification: \")\n",
    "\n",
    "# Classify the custom input\n",
    "predicted_class = classify_input(model, custom_text, vocab, label_encoder, MAX_LEN, DEVICE)\n",
    "print(f\"The predicted class is: {predicted_class}\")\n"
   ]
  },
  {
   "cell_type": "markdown",
   "metadata": {},
   "source": []
  }
 ],
 "metadata": {
  "kernelspec": {
   "display_name": "federated-learning",
   "language": "python",
   "name": "python3"
  },
  "language_info": {
   "codemirror_mode": {
    "name": "ipython",
    "version": 3
   },
   "file_extension": ".py",
   "mimetype": "text/x-python",
   "name": "python",
   "nbconvert_exporter": "python",
   "pygments_lexer": "ipython3",
   "version": "3.12.7"
  }
 },
 "nbformat": 4,
 "nbformat_minor": 2
}
